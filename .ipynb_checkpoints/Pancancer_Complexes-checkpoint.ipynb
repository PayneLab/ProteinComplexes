{
 "cells": [
  {
   "cell_type": "code",
   "execution_count": 1,
   "metadata": {},
   "outputs": [
    {
     "name": "stdout",
     "output_type": "stream",
     "text": [
      "All files already downloaded and correct.\n",
      "All files already downloaded and correct.\n",
      "All files already downloaded and correct.\n",
      "All files already downloaded and correct.\n",
      "                                    \r"
     ]
    }
   ],
   "source": [
    "%run /Users/amandaoliphant/Documents/GitHub/ProteinComplexes/Analysis_Functions.ipynb"
   ]
  },
  {
   "cell_type": "code",
   "execution_count": 2,
   "metadata": {},
   "outputs": [],
   "source": [
    "%run /Users/amandaoliphant/Documents/GitHub/ProteinComplexes/Plotting_Functions.ipynb"
   ]
  },
  {
   "cell_type": "markdown",
   "metadata": {},
   "source": [
    "### This notebook was written using a specific version of CPTAC"
   ]
  },
  {
   "cell_type": "code",
   "execution_count": 3,
   "metadata": {
    "scrolled": true
   },
   "outputs": [
    {
     "data": {
      "text/plain": [
       "'0.5.2'"
      ]
     },
     "execution_count": 3,
     "metadata": {},
     "output_type": "execute_result"
    }
   ],
   "source": [
    "cptac.version()"
   ]
  },
  {
   "cell_type": "markdown",
   "metadata": {},
   "source": [
    "### Perform a bonferroni correction on the p-value cutoff to account for testing thousands of proteins"
   ]
  },
  {
   "cell_type": "code",
   "execution_count": 5,
   "metadata": {},
   "outputs": [
    {
     "name": "stdout",
     "output_type": "stream",
     "text": [
      "1.3694878115584772e-05\n"
     ]
    }
   ],
   "source": [
    "all_proteins = list(set(sum(subunitNames.values(), [])))\n",
    "adjusted_alpha = 0.05 / len(all_proteins)\n",
    "print(adjusted_alpha)"
   ]
  },
  {
   "cell_type": "markdown",
   "metadata": {},
   "source": [
    "## Colon Cancer"
   ]
  },
  {
   "cell_type": "code",
   "execution_count": null,
   "metadata": {},
   "outputs": [],
   "source": [
    "colon_proteomics = colon.join_metadata_to_omics('clinical', 'proteomics', ['Sample_Tumor_Normal'])\n",
    "colon_proteomics.columns = colon_proteomics.columns.str.replace('_proteomics', '')\n",
    "colon_proteomics = colon_proteomics.loc[:,~colon_proteomics.columns.duplicated()]\n",
    "colon_results = ttest_all_complexes(colon_proteomics, alpha = adjusted_alpha)\n",
    "colon_results"
   ]
  },
  {
   "cell_type": "code",
   "execution_count": null,
   "metadata": {
    "scrolled": false
   },
   "outputs": [],
   "source": [
    "make_histogram(colon_results, size_cutoffs = [5, 20], norm = True, show_complex = '26S proteasome', show_change = 'percent_increased')"
   ]
  },
  {
   "cell_type": "markdown",
   "metadata": {},
   "source": [
    "## Endometrial Cancer"
   ]
  },
  {
   "cell_type": "code",
   "execution_count": null,
   "metadata": {
    "scrolled": true
   },
   "outputs": [],
   "source": [
    "en_proteomics = en.join_metadata_to_omics('clinical', 'proteomics', ['Proteomics_Tumor_Normal'])\n",
    "en_proteomics.columns = en_proteomics.columns.str.replace('Proteomics_Tumor_Normal', 'Sample_Tumor_Normal')\n",
    "en_proteomics.columns = en_proteomics.columns.str.replace('_proteomics', '')\n",
    "en_proteomics = en_proteomics.loc[:,~en_proteomics.columns.duplicated()]\n",
    "en_proteomics.loc[en_proteomics['Sample_Tumor_Normal'] == 'Adjacent_normal', 'Sample_Tumor_Normal'] = 'Normal'\n",
    "en_results = ttest_all_complexes(en_proteomics, alpha = adjusted_alpha)\n",
    "en_results"
   ]
  },
  {
   "cell_type": "code",
   "execution_count": null,
   "metadata": {
    "scrolled": false
   },
   "outputs": [],
   "source": [
    "make_histogram(en_results, size_cutoffs = [20], norm = True, show_complex = 'Condensin I complex')"
   ]
  },
  {
   "cell_type": "markdown",
   "metadata": {},
   "source": [
    "## Renal Cancer"
   ]
  },
  {
   "cell_type": "code",
   "execution_count": null,
   "metadata": {},
   "outputs": [],
   "source": [
    "renal_proteomics = renal.join_metadata_to_omics('clinical', 'proteomics', ['Sample_Tumor_Normal'])\n",
    "renal_proteomics.columns = renal_proteomics.columns.str.replace('_proteomics', '')\n",
    "renal_proteomics = renal_proteomics.loc[:,~renal_proteomics.columns.duplicated()]\n",
    "renal_results = ttest_all_complexes(renal_proteomics, alpha = adjusted_alpha)\n",
    "renal_results"
   ]
  },
  {
   "cell_type": "code",
   "execution_count": null,
   "metadata": {},
   "outputs": [],
   "source": [
    "make_histogram(renal_results, size_cutoffs = [20], norm = True, show_complex = 'Condensin I complex')"
   ]
  },
  {
   "cell_type": "code",
   "execution_count": null,
   "metadata": {},
   "outputs": [],
   "source": [
    "renal_results.loc[colon_results['complex_name'].str.contains('proteasome')]"
   ]
  },
  {
   "cell_type": "markdown",
   "metadata": {},
   "source": [
    "## Ovarian Cancer"
   ]
  },
  {
   "cell_type": "code",
   "execution_count": null,
   "metadata": {
    "scrolled": true
   },
   "outputs": [],
   "source": [
    "ov_proteomics = ov.join_metadata_to_omics('clinical', 'proteomics', ['Sample_Tumor_Normal'])\n",
    "ov_proteomics.columns = ov_proteomics.columns.str.replace('_proteomics', '')\n",
    "# Remove columns with the same name\n",
    "ov_proteomics = ov_proteomics.loc[:,~ov_proteomics.columns.duplicated()]\n",
    "ov_results = ttest_all_complexes(ov_proteomics, alpha = adjusted_alpha)\n",
    "ov_results"
   ]
  },
  {
   "cell_type": "code",
   "execution_count": null,
   "metadata": {},
   "outputs": [],
   "source": [
    "make_histogram(ov_results, size_cutoffs = [20], norm = True, show_complex = 'Condensin I complex')"
   ]
  },
  {
   "cell_type": "markdown",
   "metadata": {},
   "source": [
    "## Specific Complex Analysis"
   ]
  },
  {
   "cell_type": "code",
   "execution_count": null,
   "metadata": {},
   "outputs": [],
   "source": [
    "large_complexes = list(colon_results.loc[colon_results['total_protein_num'] >= 20]['complex_name'])\n",
    "colon_results.loc[colon_results['total_protein_num'] >= 20]"
   ]
  },
  {
   "cell_type": "code",
   "execution_count": null,
   "metadata": {},
   "outputs": [],
   "source": [
    "en_results.loc[en_results['total_protein_num'] >= 20]"
   ]
  },
  {
   "cell_type": "code",
   "execution_count": null,
   "metadata": {},
   "outputs": [],
   "source": [
    "renal_results.loc[renal_results['total_protein_num'] >= 20]"
   ]
  },
  {
   "cell_type": "code",
   "execution_count": null,
   "metadata": {
    "scrolled": true
   },
   "outputs": [],
   "source": [
    "ov_results.loc[ov_results['total_protein_num'] >= 20]"
   ]
  },
  {
   "cell_type": "code",
   "execution_count": null,
   "metadata": {},
   "outputs": [],
   "source": [
    "large_complexes"
   ]
  },
  {
   "cell_type": "code",
   "execution_count": null,
   "metadata": {
    "scrolled": true
   },
   "outputs": [],
   "source": [
    "for complex_name in large_complexes:\n",
    "    print(complex_name + '\\n')\n",
    "    analysis = pancancer_analyze_complex(complex_name, include_borderline = True)\n",
    "    print('\\n')"
   ]
  },
  {
   "cell_type": "code",
   "execution_count": null,
   "metadata": {
    "scrolled": false
   },
   "outputs": [],
   "source": [
    "pancancer_boxplot('Respiratory chain complex I (holoenzyme), mitochondrial')"
   ]
  },
  {
   "cell_type": "code",
   "execution_count": null,
   "metadata": {
    "scrolled": false
   },
   "outputs": [],
   "source": [
    "pancancer_plot_proteins('Condensin I complex')"
   ]
  },
  {
   "cell_type": "code",
   "execution_count": null,
   "metadata": {},
   "outputs": [],
   "source": []
  }
 ],
 "metadata": {
  "kernelspec": {
   "display_name": "Python 3",
   "language": "python",
   "name": "python3"
  },
  "language_info": {
   "codemirror_mode": {
    "name": "ipython",
    "version": 3
   },
   "file_extension": ".py",
   "mimetype": "text/x-python",
   "name": "python",
   "nbconvert_exporter": "python",
   "pygments_lexer": "ipython3",
   "version": "3.7.0"
  }
 },
 "nbformat": 4,
 "nbformat_minor": 2
}
