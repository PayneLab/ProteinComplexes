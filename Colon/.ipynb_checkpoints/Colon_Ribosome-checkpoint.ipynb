{
 "cells": [
  {
   "cell_type": "code",
   "execution_count": 1,
   "metadata": {},
   "outputs": [],
   "source": [
    "%%capture\n",
    "%run /Users/amandaoliphant/Documents/GitHub/OvarianProspective/Protein_Complexes/Analysis_Functions.ipynb"
   ]
  },
  {
   "cell_type": "markdown",
   "metadata": {},
   "source": [
    "### 40S Ribosomal Subunit\n",
    "All of these proteins are elevated in tumor cells"
   ]
  },
  {
   "cell_type": "code",
   "execution_count": 4,
   "metadata": {
    "scrolled": true
   },
   "outputs": [
    {
     "name": "stdout",
     "output_type": "stream",
     "text": [
      "p-value for RPS12 (tumor vs normal): 3.5982554218874777e-41\n",
      "p-value for RPS2 (tumor vs normal): 5.3940189322801554e-39\n",
      "p-value for RPS27 (tumor vs normal): 2.0215214957383283e-07\n",
      "p-value for FAU (tumor vs normal): 1.1720706271532829e-18\n",
      "p-value for RPS9 (tumor vs normal): 3.033021951304256e-19\n",
      "p-value for RPS3 (tumor vs normal): 2.111649623097974e-20\n",
      "p-value for RPS6 (tumor vs normal): 7.877815335135476e-42\n",
      "p-value for RPS27A (tumor vs normal): 1.3889126008501177e-20\n",
      "p-value for RPS15 (tumor vs normal): 4.307848524892104e-07\n",
      "p-value for RPS25 (tumor vs normal): 3.98497222224252e-21\n",
      "p-value for RPS13 (tumor vs normal): 1.205538520728157e-31\n",
      "p-value for RPS8 (tumor vs normal): 3.8725104592373576e-39\n",
      "p-value for RPS19 (tumor vs normal): 1.5223992431806227e-30\n",
      "p-value for RPS11 (tumor vs normal): 6.543220439806745e-35\n",
      "p-value for RPS28 (tumor vs normal): 4.368033039528106e-24\n",
      "p-value for RPS15A (tumor vs normal): 6.439075950979605e-24\n",
      "p-value for RPS23 (tumor vs normal): 3.734163336410728e-23\n",
      "p-value for RPS21 (tumor vs normal): 3.337530611519645e-22\n",
      "p-value for RPS20 (tumor vs normal): 2.884949055156817e-19\n",
      "p-value for RPS17 (tumor vs normal): 7.149320145389978e-32\n",
      "p-value for RPSA (tumor vs normal): 3.0619660017187006e-12\n",
      "p-value for RPS26 (tumor vs normal): 2.2437049457868144e-18\n",
      "p-value for RPS5 (tumor vs normal): 4.5818244856177694e-33\n",
      "p-value for RPS3A (tumor vs normal): 5.951676036164981e-29\n",
      "p-value for RPS18 (tumor vs normal): 2.8264003198525854e-25\n",
      "p-value for RPS29 (tumor vs normal): 7.683062521051087e-16\n",
      "p-value for RPS16 (tumor vs normal): 1.8450090191338398e-13\n",
      "p-value for RPS14 (tumor vs normal): 4.637381302768748e-07\n",
      "p-value for RPS4X (tumor vs normal): 7.30422238479028e-34\n",
      "p-value for RPS10 (tumor vs normal): 9.906245712297583e-17\n",
      "p-value for RPS7 (tumor vs normal): 2.2682036870644627e-35\n",
      "p-value for RPS24 (tumor vs normal): 1.3255269357945178e-32\n"
     ]
    }
   ],
   "source": [
    "ribosome_proteins = subunitNames['40S ribosomal subunit, cytoplasmic']\n",
    "sig_results = []\n",
    "ribosome_proteins = list(set(ribosome_proteins))\n",
    "alpha = 0.05 / len(ribosome_proteins)\n",
    "for protein in ribosome_proteins:\n",
    "    pval = ttest_proteomics(protein, cancer_type = 'colon')\n",
    "    if pval < alpha:\n",
    "        sig_results.append(protein)\n",
    "        print('p-value for ' + protein + ' (tumor vs normal): ' + str(pval))\n",
    "        #plot_proteomics(protein, print_pvals = False, cancer_type = 'colon')"
   ]
  },
  {
   "cell_type": "markdown",
   "metadata": {},
   "source": [
    "### Ribosome (cytoplasmic)\n",
    "All of these proteins are elevated in tumor cells"
   ]
  },
  {
   "cell_type": "code",
   "execution_count": 6,
   "metadata": {
    "scrolled": true
   },
   "outputs": [
    {
     "name": "stdout",
     "output_type": "stream",
     "text": [
      "p-value for RPL35A (tumor vs normal): 3.3903515724815356e-26\n",
      "p-value for RPL34 (tumor vs normal): 1.2280517031067541e-32\n",
      "p-value for RPS15 (tumor vs normal): 4.307848524892104e-07\n",
      "p-value for RPS19 (tumor vs normal): 1.5223992431806227e-30\n",
      "p-value for RPS8 (tumor vs normal): 3.8725104592373576e-39\n",
      "p-value for RPL10 (tumor vs normal): 1.1625331118958425e-25\n",
      "p-value for RPS28 (tumor vs normal): 4.368033039528106e-24\n",
      "p-value for RPL12 (tumor vs normal): 1.8649743281306753e-27\n",
      "p-value for RPL38 (tumor vs normal): 1.3406626322201735e-18\n",
      "p-value for RPL26 (tumor vs normal): 1.4182864727278554e-22\n",
      "p-value for RPS17 (tumor vs normal): 7.149320145389978e-32\n",
      "p-value for RPSA (tumor vs normal): 3.0619660017187006e-12\n",
      "p-value for RPS18 (tumor vs normal): 2.8264003198525854e-25\n",
      "p-value for RPS29 (tumor vs normal): 7.683062521051087e-16\n",
      "p-value for RPS14 (tumor vs normal): 4.637381302768748e-07\n",
      "p-value for RPL19 (tumor vs normal): 6.096123276147716e-13\n",
      "p-value for RPL4 (tumor vs normal): 1.8880867165479886e-25\n",
      "p-value for RPL36A (tumor vs normal): 8.730756127612961e-35\n",
      "p-value for RPL37 (tumor vs normal): 3.4476725496107445e-20\n",
      "p-value for RPL29 (tumor vs normal): 5.383475316368075e-05\n",
      "p-value for RPS3 (tumor vs normal): 2.111649623097974e-20\n",
      "p-value for RPLP2 (tumor vs normal): 5.684235923162571e-18\n",
      "p-value for RPL8 (tumor vs normal): 1.26418714286531e-17\n",
      "p-value for RPS27A (tumor vs normal): 1.3889126008501177e-20\n",
      "p-value for RPL9 (tumor vs normal): 3.503850407384781e-31\n",
      "p-value for RPS25 (tumor vs normal): 3.98497222224252e-21\n",
      " RPL9 did not match any columns in proteomics dataframe.  RPL9_proteomics column inserted, but filled with NaN.\n",
      "p-value for RPS13 (tumor vs normal): 1.205538520728157e-31\n",
      "p-value for RPL27 (tumor vs normal): 3.370977421552289e-18\n",
      "p-value for RPL24 (tumor vs normal): 9.47070551095527e-25\n",
      "p-value for RPS5 (tumor vs normal): 4.5818244856177694e-33\n",
      "p-value for RPL21 (tumor vs normal): 1.2619655138546442e-21\n",
      "p-value for RPL17 (tumor vs normal): 8.984842484726767e-33\n",
      "p-value for RPLP0 (tumor vs normal): 8.483318795274857e-31\n",
      "p-value for RPL28 (tumor vs normal): 3.672970070052749e-24\n",
      "p-value for RPS27 (tumor vs normal): 2.0215214957383283e-07\n",
      "p-value for RPL10A (tumor vs normal): 2.0022305189149515e-34\n",
      "p-value for RPS9 (tumor vs normal): 3.033021951304256e-19\n",
      "p-value for RPL7 (tumor vs normal): 9.471154866194906e-32\n",
      "p-value for RPS6 (tumor vs normal): 7.877815335135476e-42\n",
      "p-value for RPL14 (tumor vs normal): 1.1299888220189344e-21\n",
      "p-value for RPL11 (tumor vs normal): 2.0713820112420426e-33\n",
      "p-value for RPL13A (tumor vs normal): 3.277644361383639e-28\n",
      "p-value for RPL39 (tumor vs normal): 2.4340759629001423e-07\n",
      "p-value for RPS11 (tumor vs normal): 6.543220439806745e-35\n",
      "p-value for RPLP1 (tumor vs normal): 2.8700313342312813e-09\n",
      "p-value for RPL30 (tumor vs normal): 3.974278897066675e-23\n",
      "p-value for RPS21 (tumor vs normal): 3.337530611519645e-22\n",
      "p-value for RPS26 (tumor vs normal): 2.2437049457868144e-18\n",
      "p-value for RPL15 (tumor vs normal): 5.511547130764028e-26\n",
      "p-value for RPS16 (tumor vs normal): 1.8450090191338398e-13\n",
      "RPL41 did not match any columns in proteomics dataframe. RPL41_proteomics column inserted, but filled with NaN.\n",
      "p-value for RPL23 (tumor vs normal): 2.108215785313482e-23\n",
      "p-value for RPS7 (tumor vs normal): 2.2682036870644627e-35\n",
      "p-value for RPL27A (tumor vs normal): 5.906196392442247e-23\n",
      "p-value for RPS12 (tumor vs normal): 3.5982554218874777e-41\n",
      "p-value for RPS2 (tumor vs normal): 5.3940189322801554e-39\n",
      "p-value for UBA52 (tumor vs normal): 6.0191286187083e-17\n",
      "p-value for FAU (tumor vs normal): 1.1720706271532829e-18\n",
      "p-value for RPL35 (tumor vs normal): 5.5304935483541954e-24\n",
      "p-value for RPL22 (tumor vs normal): 6.420923926590862e-11\n",
      "p-value for RPL13 (tumor vs normal): 5.33338496569482e-28\n",
      "p-value for RPL3 (tumor vs normal): 4.3198900422421174e-35\n",
      "p-value for RPL37A (tumor vs normal): 2.0846191839222284e-11\n",
      "p-value for RPL18 (tumor vs normal): 1.0131158236286363e-29\n",
      "p-value for RPL32 (tumor vs normal): 3.9644955473578606e-30\n",
      "p-value for RPL31 (tumor vs normal): 1.5524340085884698e-14\n",
      "p-value for RPL7A (tumor vs normal): 1.8945739221288463e-29\n",
      "p-value for RPL5 (tumor vs normal): 4.385660872119509e-35\n",
      "p-value for RPS15A (tumor vs normal): 6.439075950979605e-24\n",
      "p-value for RPS23 (tumor vs normal): 3.734163336410728e-23\n",
      "p-value for RPL6 (tumor vs normal): 2.8424354298738906e-34\n",
      "p-value for RPL18A (tumor vs normal): 9.864334608401493e-19\n",
      "p-value for RPL23A (tumor vs normal): 2.0918414811392908e-30\n",
      "p-value for RPS20 (tumor vs normal): 2.884949055156817e-19\n",
      "p-value for RPS3A (tumor vs normal): 5.951676036164981e-29\n",
      "p-value for RPS4X (tumor vs normal): 7.30422238479028e-34\n",
      "p-value for RPS10 (tumor vs normal): 9.906245712297583e-17\n",
      "p-value for RPS24 (tumor vs normal): 1.3255269357945178e-32\n"
     ]
    }
   ],
   "source": [
    "ribosome_proteins = subunitNames['Ribosome, cytoplasmic']\n",
    "ribosome_proteins = list(set(ribosome_proteins))\n",
    "alpha = 0.05 / len(ribosome_proteins)\n",
    "for protein in ribosome_proteins:\n",
    "    pval = ttest_proteomics(protein, cancer_type = 'colon')\n",
    "    if pval < alpha:\n",
    "        sig_results.append(protein)\n",
    "        print('p-value for ' + protein + ' (tumor vs normal): ' + str(pval))\n",
    "        #plot_proteomics(protein, print_pvals = False, cancer_type = 'colon')"
   ]
  },
  {
   "cell_type": "markdown",
   "metadata": {},
   "source": [
    "### 60S Ribosomal Subunit\n",
    "All of these proteins are elevated in tumor cells"
   ]
  },
  {
   "cell_type": "code",
   "execution_count": 9,
   "metadata": {
    "scrolled": false
   },
   "outputs": [
    {
     "name": "stdout",
     "output_type": "stream",
     "text": [
      "p-value for RPL35A (tumor vs normal): 3.3903515724815356e-26\n",
      "p-value for RPLP0 (tumor vs normal): 8.483318795274857e-31\n",
      "p-value for RPL28 (tumor vs normal): 3.672970070052749e-24\n",
      "p-value for RPL36A (tumor vs normal): 8.730756127612961e-35\n",
      "p-value for RPL37 (tumor vs normal): 3.4476725496107445e-20\n",
      "p-value for RPL34 (tumor vs normal): 1.2280517031067541e-32\n",
      "p-value for RPL29 (tumor vs normal): 5.383475316368075e-05\n",
      "p-value for UBA52 (tumor vs normal): 6.0191286187083e-17\n",
      "p-value for RPL35 (tumor vs normal): 5.5304935483541954e-24\n",
      "p-value for RPL22 (tumor vs normal): 6.420923926590862e-11\n",
      "p-value for RPL10A (tumor vs normal): 2.0022305189149515e-34\n",
      "p-value for RPL13 (tumor vs normal): 5.33338496569482e-28\n",
      "p-value for RPL3 (tumor vs normal): 4.3198900422421174e-35\n",
      "p-value for RPL37A (tumor vs normal): 2.0846191839222284e-11\n",
      "p-value for RPL18 (tumor vs normal): 1.0131158236286363e-29\n",
      "p-value for RPL7 (tumor vs normal): 9.471154866194906e-32\n",
      "p-value for RPLP2 (tumor vs normal): 5.684235923162571e-18\n",
      "p-value for RPL8 (tumor vs normal): 1.26418714286531e-17\n",
      "p-value for RPL32 (tumor vs normal): 3.9644955473578606e-30\n",
      "p-value for RPL14 (tumor vs normal): 1.1299888220189344e-21\n",
      "p-value for RPL31 (tumor vs normal): 1.5524340085884698e-14\n",
      "p-value for RPL9 (tumor vs normal): 3.503850407384781e-31\n",
      "p-value for RPL11 (tumor vs normal): 2.0713820112420426e-33\n",
      "p-value for RPL7A (tumor vs normal): 1.8945739221288463e-29\n",
      "p-value for RPL5 (tumor vs normal): 4.385660872119509e-35\n",
      " RPL9 did not match any columns in proteomics dataframe.  RPL9_proteomics column inserted, but filled with NaN.\n",
      "p-value for RPL13A (tumor vs normal): 3.277644361383639e-28\n",
      "p-value for RPL10 (tumor vs normal): 1.1625331118958425e-25\n",
      "p-value for RPL39 (tumor vs normal): 2.4340759629001423e-07\n",
      "p-value for RPLP1 (tumor vs normal): 2.8700313342312813e-09\n",
      "p-value for RPL27 (tumor vs normal): 3.370977421552289e-18\n",
      "p-value for RPL24 (tumor vs normal): 9.47070551095527e-25\n",
      "p-value for RPL30 (tumor vs normal): 3.974278897066675e-23\n",
      "p-value for RPL18A (tumor vs normal): 9.864334608401493e-19\n",
      "p-value for RPL6 (tumor vs normal): 2.8424354298738906e-34\n",
      "p-value for RPL12 (tumor vs normal): 1.8649743281306753e-27\n",
      "p-value for RPL38 (tumor vs normal): 1.3406626322201735e-18\n",
      "p-value for RPL23A (tumor vs normal): 2.0918414811392908e-30\n",
      "p-value for RPL26 (tumor vs normal): 1.4182864727278554e-22\n",
      "p-value for RPL15 (tumor vs normal): 5.511547130764028e-26\n",
      "p-value for RPL21 (tumor vs normal): 1.2619655138546442e-21\n",
      "p-value for RPL17 (tumor vs normal): 8.984842484726767e-33\n",
      "RPL41 did not match any columns in proteomics dataframe. RPL41_proteomics column inserted, but filled with NaN.\n",
      "p-value for RPL19 (tumor vs normal): 6.096123276147716e-13\n",
      "p-value for RPL23 (tumor vs normal): 2.108215785313482e-23\n",
      "p-value for RPL27A (tumor vs normal): 5.906196392442247e-23\n",
      "p-value for RPL4 (tumor vs normal): 1.8880867165479886e-25\n"
     ]
    }
   ],
   "source": [
    "ribosome_proteins = subunitNames['60S ribosomal subunit, cytoplasmic']\n",
    "sig_results = []\n",
    "ribosome_proteins = list(set(ribosome_proteins))\n",
    "alpha = 0.05 / len(ribosome_proteins)\n",
    "for protein in ribosome_proteins:\n",
    "    pval = ttest_proteomics(protein, cancer_type = 'colon')\n",
    "    if pval < alpha:\n",
    "        sig_results.append(protein)\n",
    "        print('p-value for ' + protein + ' (tumor vs normal): ' + str(pval))\n",
    "        #plot_proteomics(protein, print_pvals = False, cancer_type = 'colon')"
   ]
  }
 ],
 "metadata": {
  "kernelspec": {
   "display_name": "Python 3",
   "language": "python",
   "name": "python3"
  },
  "language_info": {
   "codemirror_mode": {
    "name": "ipython",
    "version": 3
   },
   "file_extension": ".py",
   "mimetype": "text/x-python",
   "name": "python",
   "nbconvert_exporter": "python",
   "pygments_lexer": "ipython3",
   "version": "3.7.0"
  }
 },
 "nbformat": 4,
 "nbformat_minor": 2
}
